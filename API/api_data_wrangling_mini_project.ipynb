{
 "cells": [
  {
   "cell_type": "markdown",
   "metadata": {},
   "source": [
    "This exercise will require you to pull some data from the Qunadl API. Qaundl is currently the most widely used aggregator of financial market data."
   ]
  },
  {
   "cell_type": "markdown",
   "metadata": {},
   "source": [
    "As a first step, you will need to register a free account on the http://www.quandl.com website."
   ]
  },
  {
   "cell_type": "markdown",
   "metadata": {},
   "source": [
    "After you register, you will be provided with a unique API key, that you should store:"
   ]
  },
  {
   "cell_type": "code",
   "execution_count": 208,
   "metadata": {},
   "outputs": [],
   "source": [
    "# Store the API key as a string - according to PEP8, constants are always named in all upper case\n",
    "\n",
    "with open('/Users/ianbury/Springboard/springboard/quandl_api_key','r') as file:\n",
    "    API_KEY = file.read()\n"
   ]
  },
  {
   "cell_type": "markdown",
   "metadata": {},
   "source": [
    "Qaundl has a large number of data sources, but, unfortunately, most of them require a Premium subscription. Still, there are also a good number of free datasets."
   ]
  },
  {
   "cell_type": "markdown",
   "metadata": {},
   "source": [
    "For this mini project, we will focus on equities data from the Frankfurt Stock Exhange (FSE), which is available for free. We'll try and analyze the stock prices of a company called Carl Zeiss Meditec, which manufactures tools for eye examinations, as well as medical lasers for laser eye surgery: https://www.zeiss.com/meditec/int/home.html. The company is listed under the stock ticker AFX_X."
   ]
  },
  {
   "cell_type": "markdown",
   "metadata": {},
   "source": [
    "You can find the detailed Quandl API instructions here: https://docs.quandl.com/docs/time-series"
   ]
  },
  {
   "cell_type": "markdown",
   "metadata": {},
   "source": [
    "While there is a dedicated Python package for connecting to the Quandl API, we would prefer that you use the *requests* package, which can be easily downloaded using *pip* or *conda*. You can find the documentation for the package here: http://docs.python-requests.org/en/master/ "
   ]
  },
  {
   "cell_type": "markdown",
   "metadata": {},
   "source": [
    "Finally, apart from the *requests* package, you are encouraged to not use any third party Python packages, such as *pandas*, and instead focus on what's available in the Python Standard Library (the *collections* module might come in handy: https://pymotw.com/3/collections/).\n",
    "Also, since you won't have access to DataFrames, you are encouraged to us Python's native data structures - preferably dictionaries, though some questions can also be answered using lists.\n",
    "You can read more on these data structures here: https://docs.python.org/3/tutorial/datastructures.html"
   ]
  },
  {
   "cell_type": "markdown",
   "metadata": {},
   "source": [
    "Keep in mind that the JSON responses you will be getting from the API map almost one-to-one to Python's dictionaries. Unfortunately, they can be very nested, so make sure you read up on indexing dictionaries in the documentation provided above."
   ]
  },
  {
   "cell_type": "code",
   "execution_count": 139,
   "metadata": {},
   "outputs": [],
   "source": [
    "# First, import the relevant modules\n",
    "import requests\n",
    "from collections import defaultdict\n",
    "from statistics import mean,median\n",
    "\n"
   ]
  },
  {
   "cell_type": "code",
   "execution_count": 28,
   "metadata": {},
   "outputs": [],
   "source": [
    "# Now, call the Quandl API and pull out a small sample of the data (only one day) to get a glimpse\n",
    "# into the JSON structure that will be returned\n",
    "database='FSE'\n",
    "dataset='AFX_X'\n",
    "start_date='2017-05-01'\n",
    "end_date = '2017-05-01'\n",
    "url='https://www.quandl.com/api/v3/datasets/FSE/AFX_X/data.json?api_key='+API_KEY+'&start_date='+start_date+'&end_date='+end_date\n"
   ]
  },
  {
   "cell_type": "code",
   "execution_count": 29,
   "metadata": {},
   "outputs": [],
   "source": [
    "r = requests.get(url)"
   ]
  },
  {
   "cell_type": "code",
   "execution_count": 32,
   "metadata": {},
   "outputs": [
    {
     "data": {
      "text/plain": [
       "{u'dataset_data': {u'collapse': None,\n",
       "  u'column_index': None,\n",
       "  u'column_names': [u'Date',\n",
       "   u'Open',\n",
       "   u'High',\n",
       "   u'Low',\n",
       "   u'Close',\n",
       "   u'Change',\n",
       "   u'Traded Volume',\n",
       "   u'Turnover',\n",
       "   u'Last Price of the Day',\n",
       "   u'Daily Traded Units',\n",
       "   u'Daily Turnover'],\n",
       "  u'data': [[u'2017-05-01',\n",
       "    None,\n",
       "    42.245,\n",
       "    41.655,\n",
       "    41.72,\n",
       "    -0.44,\n",
       "    86348.0,\n",
       "    3606589.0,\n",
       "    None,\n",
       "    None,\n",
       "    None]],\n",
       "  u'end_date': u'2017-05-01',\n",
       "  u'frequency': u'daily',\n",
       "  u'limit': None,\n",
       "  u'order': None,\n",
       "  u'start_date': u'2017-05-01',\n",
       "  u'transform': None}}"
      ]
     },
     "execution_count": 32,
     "metadata": {},
     "output_type": "execute_result"
    }
   ],
   "source": [
    "data = r.json()\n",
    "data"
   ]
  },
  {
   "cell_type": "code",
   "execution_count": 40,
   "metadata": {},
   "outputs": [
    {
     "data": {
      "text/plain": [
       "{u'collapse': None,\n",
       " u'column_index': None,\n",
       " u'column_names': [u'Date',\n",
       "  u'Open',\n",
       "  u'High',\n",
       "  u'Low',\n",
       "  u'Close',\n",
       "  u'Change',\n",
       "  u'Traded Volume',\n",
       "  u'Turnover',\n",
       "  u'Last Price of the Day',\n",
       "  u'Daily Traded Units',\n",
       "  u'Daily Turnover'],\n",
       " u'data': [[u'2017-05-01',\n",
       "   None,\n",
       "   42.245,\n",
       "   41.655,\n",
       "   41.72,\n",
       "   -0.44,\n",
       "   86348.0,\n",
       "   3606589.0,\n",
       "   None,\n",
       "   None,\n",
       "   None]],\n",
       " u'end_date': u'2017-05-01',\n",
       " u'frequency': u'daily',\n",
       " u'limit': None,\n",
       " u'order': None,\n",
       " u'start_date': u'2017-05-01',\n",
       " u'transform': None}"
      ]
     },
     "execution_count": 40,
     "metadata": {},
     "output_type": "execute_result"
    }
   ],
   "source": [
    "# Inspect the JSON structure of the object you created, and take note of how nested it is,\n",
    "# as well as the overall structure\n",
    "data['dataset_data']"
   ]
  },
  {
   "cell_type": "markdown",
   "metadata": {},
   "source": [
    "These are your tasks for this mini project:\n",
    "\n",
    "1. Collect data from the Franfurt Stock Exchange, for the ticker AFX_X, for the whole year 2017 (keep in mind that the date format is YYYY-MM-DD).\n",
    "2. Convert the returned JSON object into a Python dictionary.\n",
    "3. Calculate what the highest and lowest opening prices were for the stock in this period.\n",
    "4. What was the largest change in any one day (based on High and Low price)?\n",
    "5. What was the largest change between any two days (based on Closing Price)?\n",
    "6. What was the average daily trading volume during this year?\n",
    "7. (Optional) What was the median trading volume during this year. (Note: you may need to implement your own function for calculating the median.)"
   ]
  },
  {
   "cell_type": "code",
   "execution_count": 41,
   "metadata": {},
   "outputs": [],
   "source": [
    "database='FSE'\n",
    "dataset='AFX_X'\n",
    "start_date='2017-01-01'\n",
    "end_date = '2017-12-31'\n",
    "url='https://www.quandl.com/api/v3/datasets/FSE/AFX_X/data.json?api_key='+API_KEY+'&start_date='+start_date+'&end_date='+end_date"
   ]
  },
  {
   "cell_type": "code",
   "execution_count": 209,
   "metadata": {},
   "outputs": [],
   "source": [
    "r = requests.get(url)"
   ]
  },
  {
   "cell_type": "code",
   "execution_count": 64,
   "metadata": {},
   "outputs": [],
   "source": [
    "data = r.json()\n"
   ]
  },
  {
   "cell_type": "code",
   "execution_count": 51,
   "metadata": {
    "scrolled": true
   },
   "outputs": [
    {
     "data": {
      "text/plain": [
       "[u'Date',\n",
       " u'Open',\n",
       " u'High',\n",
       " u'Low',\n",
       " u'Close',\n",
       " u'Change',\n",
       " u'Traded Volume',\n",
       " u'Turnover',\n",
       " u'Last Price of the Day',\n",
       " u'Daily Traded Units',\n",
       " u'Daily Turnover']"
      ]
     },
     "execution_count": 51,
     "metadata": {},
     "output_type": "execute_result"
    }
   ],
   "source": [
    "#Reference for column names\n",
    "data['dataset_data']['column_names']"
   ]
  },
  {
   "cell_type": "code",
   "execution_count": 120,
   "metadata": {},
   "outputs": [],
   "source": [
    "#alias for dict path\n",
    "d=data['dataset_data']['data']"
   ]
  },
  {
   "cell_type": "code",
   "execution_count": 115,
   "metadata": {},
   "outputs": [
    {
     "name": "stdout",
     "output_type": "stream",
     "text": [
      "{u'Daily Traded Units': 9, u'Daily Turnover': 10, u'Traded Volume': 6, u'Last Price of the Day': 8, u'High': 2, u'Low': 3, u'Date': 0, u'Close': 4, u'Open': 1, u'Change': 5, u'Turnover': 7}\n"
     ]
    }
   ],
   "source": [
    "#making dict of column labels for pulling out values from nested dict later.\n",
    "data_labels = {}\n",
    "for i,v in enumerate(data['dataset_data']['column_names']):\n",
    "    data_labels[v]=i\n",
    "print data_labels"
   ]
  },
  {
   "cell_type": "code",
   "execution_count": 121,
   "metadata": {},
   "outputs": [
    {
     "name": "stdout",
     "output_type": "stream",
     "text": [
      "Highest opening price in 2017: 53.11\n",
      "Lowest opening price in 2017: 34.0\n"
     ]
    }
   ],
   "source": [
    "#3. Calculate what the highest and lowest opening prices were for the stock in this period.\n",
    "opening_prices = [x[data_labels['Open']] for x in d if type(x[data_labels['Open']])==float]\n",
    "print ('Highest opening price in 2017: '+str(max(opening_prices)))\n",
    "print ('Lowest opening price in 2017: '+str(min(opening_prices)))"
   ]
  },
  {
   "cell_type": "code",
   "execution_count": 123,
   "metadata": {},
   "outputs": [
    {
     "name": "stdout",
     "output_type": "stream",
     "text": [
      "Largest change is: 2.81\n"
     ]
    }
   ],
   "source": [
    "#4. What was the largest change in any one day (based on High and Low price)?\n",
    "change = [(x[data_labels['High']] -x[data_labels['Low']] ) \n",
    "          for x in d\n",
    "          if (type(x[data_labels['High']] )==float)&(type(x[data_labels['Low']] )==float)]\n",
    "print('Largest change is: '+str(max(change)))"
   ]
  },
  {
   "cell_type": "code",
   "execution_count": 122,
   "metadata": {},
   "outputs": [
    {
     "name": "stdout",
     "output_type": "stream",
     "text": [
      "Largest change is: 1.69\n"
     ]
    }
   ],
   "source": [
    "#5. What was the largest change between any two days (based on Closing Price)?\n",
    "change = [abs((x[data_labels['Open']] -x[data_labels['Close']] )) \n",
    "          for x in d\n",
    "          if (type(x[data_labels['Open']] )==float)&(type(x[data_labels['Close']] )==float)]\n",
    "print('Largest change is: '+str(max(change)))"
   ]
  },
  {
   "cell_type": "code",
   "execution_count": 171,
   "metadata": {},
   "outputs": [
    {
     "name": "stdout",
     "output_type": "stream",
     "text": [
      "Average daily trading volume in 2017: 89124.3372549\n",
      "Average daily trading volume in 2017: 89124.3372549\n"
     ]
    }
   ],
   "source": [
    "#6. What was the average daily trading volume during this year?\n",
    "volume = [x[data_labels['Traded Volume']] for x in d if type(x[data_labels['Traded Volume']])==float]\n",
    "print('Average daily trading volume in 2017: '+str(mean(volume)))\n",
    "#or if statistics module is not considered part of Python standard lib\n",
    "print('Average daily trading volume in 2017: '+str(sum(volume)/len(volume)))"
   ]
  },
  {
   "cell_type": "code",
   "execution_count": 201,
   "metadata": {},
   "outputs": [
    {
     "name": "stdout",
     "output_type": "stream",
     "text": [
      "Median daily trading volume in 2017: 77010.0\n",
      "Median daily trading volume in 2017: 77010.0\n"
     ]
    }
   ],
   "source": [
    "#7 (Optional) What was the median trading volume during this year. \n",
    "#(Note: you may need to implement your own function for calculating the median.)\n",
    "print('Median daily trading volume in 2017: '+str(median(volume)))\n",
    "#or if statistics module is not considered part of Python standard lib\n",
    "def median_func(x):\n",
    "    x= sorted(x)\n",
    "    if len(x)% 2!=0:\n",
    "        return x[(len(x)/2)]\n",
    "    else:\n",
    "        return (x[(len(x))/2]+x[(len(x)-1)/2])/2\n",
    "\n",
    "print('Median daily trading volume in 2017: '+str(median_func(volume)))"
   ]
  },
  {
   "cell_type": "code",
   "execution_count": null,
   "metadata": {},
   "outputs": [],
   "source": []
  }
 ],
 "metadata": {
  "kernelspec": {
   "display_name": "Python 2",
   "language": "python",
   "name": "python2"
  },
  "language_info": {
   "codemirror_mode": {
    "name": "ipython",
    "version": 2
   },
   "file_extension": ".py",
   "mimetype": "text/x-python",
   "name": "python",
   "nbconvert_exporter": "python",
   "pygments_lexer": "ipython2",
   "version": "2.7.15"
  }
 },
 "nbformat": 4,
 "nbformat_minor": 2
}
