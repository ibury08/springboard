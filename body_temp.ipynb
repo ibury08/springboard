{
 "cells": [
  {
   "cell_type": "markdown",
   "metadata": {},
   "source": [
    "# What is the True Normal Human Body Temperature? \n",
    "\n",
    "#### Background\n",
    "\n",
    "The mean normal body temperature was held to be 37$^{\\circ}$C or 98.6$^{\\circ}$F for more than 120 years since it was first conceptualized and reported by Carl Wunderlich in a famous 1868 book. But, is this value statistically correct?"
   ]
  },
  {
   "cell_type": "markdown",
   "metadata": {},
   "source": [
    "<h3>Exercises</h3>\n",
    "\n",
    "<p>In this exercise, you will analyze a dataset of human body temperatures and employ the concepts of hypothesis testing, confidence intervals, and statistical significance.</p>\n",
    "\n",
    "<p>Answer the following questions <b>in this notebook below and submit to your Github account</b>.</p> \n",
    "\n",
    "<ol>\n",
    "<li>  Is the distribution of body temperatures normal? \n",
    "    <ul>\n",
    "    <li> Although this is not a requirement for the Central Limit Theorem to hold (read the introduction on Wikipedia's page about the CLT carefully: https://en.wikipedia.org/wiki/Central_limit_theorem), it gives us some peace of mind that the population may also be normally distributed if we assume that this sample is representative of the population.\n",
    "    <li> Think about the way you're going to check for the normality of the distribution. Graphical methods are usually used first, but there are also other ways: https://en.wikipedia.org/wiki/Normality_test\n",
    "    </ul>\n",
    "<li>  Is the sample size large? Are the observations independent?\n",
    "    <ul>\n",
    "    <li> Remember that this is a condition for the Central Limit Theorem, and hence the statistical tests we are using, to apply.\n",
    "    </ul>\n",
    "<li>  Is the true population mean really 98.6 degrees F?\n",
    "    <ul>\n",
    "    <li> First, try a bootstrap hypothesis test.\n",
    "    <li> Now, let's try frequentist statistical testing. Would you use a one-sample or two-sample test? Why?\n",
    "    <li> In this situation, is it appropriate to use the $t$ or $z$ statistic? \n",
    "    <li> Now try using the other test. How is the result be different? Why?\n",
    "    </ul>\n",
    "<li>  Draw a small sample of size 10 from the data and repeat both frequentist tests. \n",
    "    <ul>\n",
    "    <li> Which one is the correct one to use? \n",
    "    <li> What do you notice? What does this tell you about the difference in application of the $t$ and $z$ statistic?\n",
    "    </ul>\n",
    "<li>  At what temperature should we consider someone's temperature to be \"abnormal\"?\n",
    "    <ul>\n",
    "    <li> As in the previous example, try calculating everything using the boostrap approach, as well as the frequentist approach.\n",
    "    <li> Start by computing the margin of error and confidence interval. When calculating the confidence interval, keep in mind that you should use the appropriate formula for one draw, and not N draws.\n",
    "    </ul>\n",
    "<li>  Is there a significant difference between males and females in normal temperature?\n",
    "    <ul>\n",
    "    <li> What testing approach did you use and why?\n",
    "    <li> Write a story with your conclusion in the context of the original problem.\n",
    "    </ul>\n",
    "</ol>\n",
    "\n",
    "You can include written notes in notebook cells using Markdown: \n",
    "   - In the control panel at the top, choose Cell > Cell Type > Markdown\n",
    "   - Markdown syntax: http://nestacms.com/docs/creating-content/markdown-cheat-sheet\n",
    "\n",
    "#### Resources\n",
    "\n",
    "+ Information and data sources: http://www.amstat.org/publications/jse/datasets/normtemp.txt, http://www.amstat.org/publications/jse/jse_data_archive.htm\n",
    "+ Markdown syntax: http://nestacms.com/docs/creating-content/markdown-cheat-sheet\n",
    "\n",
    "****"
   ]
  },
  {
   "cell_type": "code",
   "execution_count": 42,
   "metadata": {},
   "outputs": [],
   "source": [
    "import pandas as pd\n",
    "import numpy as np\n",
    "import seaborn as sns\n",
    "import matplotlib.pyplot as plt\n",
    "import math\n",
    "import scipy.stats as st\n",
    "import random\n",
    "\n",
    "df = pd.read_csv('EDA_human_temperature/data/human_body_temperature.csv')\n",
    "sns.set()"
   ]
  },
  {
   "cell_type": "code",
   "execution_count": 43,
   "metadata": {},
   "outputs": [
    {
     "name": "stderr",
     "output_type": "stream",
     "text": [
      "/anaconda2/lib/python2.7/site-packages/matplotlib/axes/_axes.py:6462: UserWarning: The 'normed' kwarg is deprecated, and has been replaced by the 'density' kwarg.\n",
      "  warnings.warn(\"The 'normed' kwarg is deprecated, and has been \"\n"
     ]
    },
    {
     "data": {
      "image/png": "[encoded data removed]",
      "text/plain": [
       "<Figure size 432x288 with 1 Axes>"
      ]
     },
     "metadata": {},
     "output_type": "display_data"
    }
   ],
   "source": [
    "# Your work here.\n",
    "_ = plt.hist(df.temperature, bins = 10, color='blue', normed=True )\n",
    "plt.xlabel('Temperature')\n",
    "plt.ylabel('%')\n",
    "plt.title('Distribution of Body Temperature')\n",
    "plt.show()\n"
   ]
  },
  {
   "cell_type": "code",
   "execution_count": 44,
   "metadata": {},
   "outputs": [
    {
     "data": {
      "image/png": "[encoded data removed]",
      "text/plain": [
       "<Figure size 432x288 with 1 Axes>"
      ]
     },
     "metadata": {},
     "output_type": "display_data"
    }
   ],
   "source": [
    "_=st.probplot(df.temperature,  plot=plt)\n",
    "plt.show()"
   ]
  },
  {
   "cell_type": "code",
   "execution_count": 45,
   "metadata": {},
   "outputs": [
    {
     "data": {
      "text/plain": [
       "SkewtestResult(statistic=-0.021370491432770995, pvalue=0.9829501126135382)"
      ]
     },
     "execution_count": 45,
     "metadata": {},
     "output_type": "execute_result"
    }
   ],
   "source": [
    "st.skewtest(df.temperature)"
   ]
  },
  {
   "cell_type": "markdown",
   "metadata": {},
   "source": [
    "1. Sample is normally distributed.\n",
    "2. Sample is sufficiently large(n>30)\n",
    "3. Each observation is independent."
   ]
  },
  {
   "cell_type": "code",
   "execution_count": 46,
   "metadata": {},
   "outputs": [
    {
     "name": "stdout",
     "output_type": "stream",
     "text": [
      "n=130\n"
     ]
    }
   ],
   "source": [
    "n=len(df)\n",
    "print ('n='+str(n))"
   ]
  },
  {
   "cell_type": "code",
   "execution_count": 47,
   "metadata": {},
   "outputs": [
    {
     "name": "stdout",
     "output_type": "stream",
     "text": [
      "Sample mean: 98.2492307692\n"
     ]
    }
   ],
   "source": [
    "sample_mean = np.mean(df.temperature)\n",
    "print('Sample mean: '+str(sample_mean))"
   ]
  },
  {
   "cell_type": "markdown",
   "metadata": {},
   "source": [
    "# Bootstrapping"
   ]
  },
  {
   "cell_type": "code",
   "execution_count": 48,
   "metadata": {},
   "outputs": [],
   "source": [
    "bs_means = np.empty(10000)\n",
    "for i in range(10000):\n",
    "    bs_means[i] = np.mean(np.random.choice(df.temperature,len(df)))"
   ]
  },
  {
   "cell_type": "code",
   "execution_count": 49,
   "metadata": {},
   "outputs": [
    {
     "data": {
      "image/png": "[encoded data removed]",
      "text/plain": [
       "<Figure size 432x288 with 1 Axes>"
      ]
     },
     "metadata": {},
     "output_type": "display_data"
    },
    {
     "name": "stdout",
     "output_type": "stream",
     "text": [
      "Bootstrap sample mean: 98.24892200000001\n"
     ]
    }
   ],
   "source": [
    "_ = plt.hist(bs_means)\n",
    "plt.xlabel('Temperature')\n",
    "plt.show()\n",
    "print ('Bootstrap sample mean: '+str(np.mean(bs_means)))"
   ]
  },
  {
   "cell_type": "code",
   "execution_count": 80,
   "metadata": {
    "scrolled": true
   },
   "outputs": [
    {
     "name": "stderr",
     "output_type": "stream",
     "text": [
      "/anaconda2/lib/python2.7/site-packages/matplotlib/axes/_axes.py:6462: UserWarning: The 'normed' kwarg is deprecated, and has been replaced by the 'density' kwarg.\n",
      "  warnings.warn(\"The 'normed' kwarg is deprecated, and has been \"\n"
     ]
    },
    {
     "data": {
      "image/png": "[encoded data removed]",
      "text/plain": [
       "<Figure size 432x288 with 1 Axes>"
      ]
     },
     "metadata": {},
     "output_type": "display_data"
    },
    {
     "name": "stdout",
     "output_type": "stream",
     "text": [
      "The difference from 98.6 degrees is between -0.5146153846153965 and -0.1853846153846063 with 99% confidence.\n",
      "p-value: 0.0\n"
     ]
    }
   ],
   "source": [
    "diff_means = bs_means - 98.6\n",
    "_=plt.hist(diff_means, normed=True)\n",
    "plt.show()\n",
    "ci = np.percentile(diff_means,[0.5,99.5])\n",
    "print('The difference from 98.6 degrees is between ' +str(ci[0])+' and '+str(ci[1])+' with 99% confidence.')\n",
    "p=(diff_means>0).mean()\n",
    "print('p-value: '+str(p))"
   ]
  },
  {
   "cell_type": "code",
   "execution_count": 51,
   "metadata": {},
   "outputs": [
    {
     "name": "stdout",
     "output_type": "stream",
     "text": [
      "[98.08538462 98.41461538]\n"
     ]
    }
   ],
   "source": [
    "ci_means = np.percentile(bs_means,[0.5,99.5])\n",
    "print(ci_means)"
   ]
  },
  {
   "cell_type": "markdown",
   "metadata": {},
   "source": [
    "# Z-tests & T-tests"
   ]
  },
  {
   "cell_type": "code",
   "execution_count": 52,
   "metadata": {},
   "outputs": [],
   "source": [
    "#H(0): sample_mean = 98.6 (population_mean)\n",
    "#H(a): sample_mean != 98.6 (population_mean)\n",
    "#99% confidence level (a=0.01)\n",
    "def z_score(sample,pop_mean):\n",
    "    #return (np.mean(sample)-pop_mean)/(np.std(sample)/np.sqrt(len(sample)))\n",
    "    return (np.mean(sample)-pop_mean)/(np.std(sample)/np.sqrt(len(sample)))"
   ]
  },
  {
   "cell_type": "code",
   "execution_count": 53,
   "metadata": {},
   "outputs": [
    {
     "name": "stdout",
     "output_type": "stream",
     "text": [
      "-5.475925202078116\n",
      "p-value(z-test): 2.1761575829410943e-08\n",
      "p-value(t-test): 1.0943732312047587e-07\n"
     ]
    }
   ],
   "source": [
    "z = z_score(df.temperature,98.6)\n",
    "print(z)\n",
    "print('p-value(z-test): '+str(st.norm.cdf(z)))\n",
    "print('p-value(t-test): '+str(st.t.cdf(z,n-1)))"
   ]
  },
  {
   "cell_type": "markdown",
   "metadata": {},
   "source": [
    "This is a two-tailed significance test, as we want to determine whether the sample mean is different from a 'known' population mean, rather than specifically greater or less than that value. Because n>30, a z-test is more appropriate to use than a t-test."
   ]
  },
  {
   "cell_type": "markdown",
   "metadata": {},
   "source": [
    "<b>Conclusion:</b>\n",
    "\n",
    "Using both our bootstrapping approach and frequentist approach, we reject the null hypothesis with a 99% confidence level. The true mean for average body temperature is likely not 98.6 degrees F."
   ]
  },
  {
   "cell_type": "code",
   "execution_count": 54,
   "metadata": {},
   "outputs": [
    {
     "name": "stdout",
     "output_type": "stream",
     "text": [
      "-1.0204311917855282\n",
      "p-value(z-test): 0.15376200350823976\n",
      "p-value(t-test): 0.1547169543097415\n"
     ]
    }
   ],
   "source": [
    "#Random sample of 10 observations\n",
    "s = random.sample(df.temperature.tolist(), 10)\n",
    "z = z_score(s,98.6)\n",
    "print(z)\n",
    "print('p-value(z-test): '+str(st.norm.cdf(z)))\n",
    "print('p-value(t-test): '+str(st.t.cdf(z,n-1)))"
   ]
  },
  {
   "cell_type": "markdown",
   "metadata": {},
   "source": [
    "When n<30, as in this sample, it is more appropriate to use a t-test. The p-value for the t-test is higher than the p-value for z-test, due to the t-statistic distribution having fatter tails. This is the opposite of what's seen above, when n>30 and the p-value for the z-test is greater than the p-value for the t-test."
   ]
  },
  {
   "cell_type": "markdown",
   "metadata": {},
   "source": [
    "# Detecting abnormal temp. "
   ]
  },
  {
   "cell_type": "code",
   "execution_count": 75,
   "metadata": {},
   "outputs": [
    {
     "name": "stdout",
     "output_type": "stream",
     "text": [
      "Bootstrapping \"normal\" range: [98.12       98.37463462] degrees F.\n",
      "Margin of error: 0.12731730769230865 degrees F.\n"
     ]
    }
   ],
   "source": [
    "#Bootstrapping - cont. from above\n",
    "bs_sample = np.empty(10000)\n",
    "for i in range(10000):\n",
    "    bs_sample[i] = np.mean(np.random.choice(df.temperature,len(df)))\n",
    "    \n",
    "ci_bs = np.percentile(bs_sample,[2.5,97.5])\n",
    "print('Bootstrapping \"normal\" range: '+str(ci_bs)+' degrees F.')\n",
    "print('Margin of error: '+str((ci_bs[1]-ci_bs[0])/2)+' degrees F.')\n",
    "\n",
    "\n",
    "\n"
   ]
  },
  {
   "cell_type": "code",
   "execution_count": 74,
   "metadata": {},
   "outputs": [
    {
     "name": "stdout",
     "output_type": "stream",
     "text": [
      "Abnormal is < 98.12degrees or > 98.37 degrees.\n"
     ]
    }
   ],
   "source": [
    "z=st.norm.ppf(.025)\n",
    "m = np.mean(df.temperature)\n",
    "s = np.std(df.temperature)/np.sqrt(len(df))\n",
    "\n",
    "print('Abnormal is < '+str(round((m+z*s),2))+'degrees or > '+str(round((m-z*s),2))+' degrees.')"
   ]
  },
  {
   "cell_type": "markdown",
   "metadata": {},
   "source": []
  },
  {
   "cell_type": "markdown",
   "metadata": {},
   "source": [
    "# Gender Difference in Avg. Temp."
   ]
  },
  {
   "cell_type": "code",
   "execution_count": 81,
   "metadata": {},
   "outputs": [
    {
     "name": "stderr",
     "output_type": "stream",
     "text": [
      "/anaconda2/lib/python2.7/site-packages/matplotlib/axes/_axes.py:6462: UserWarning: The 'normed' kwarg is deprecated, and has been replaced by the 'density' kwarg.\n",
      "  warnings.warn(\"The 'normed' kwarg is deprecated, and has been \"\n",
      "/anaconda2/lib/python2.7/site-packages/matplotlib/axes/_axes.py:6462: UserWarning: The 'normed' kwarg is deprecated, and has been replaced by the 'density' kwarg.\n",
      "  warnings.warn(\"The 'normed' kwarg is deprecated, and has been \"\n"
     ]
    },
    {
     "data": {
      "image/png": "[encoded data removed]",
      "text/plain": [
       "<Figure size 432x288 with 1 Axes>"
      ]
     },
     "metadata": {},
     "output_type": "display_data"
    }
   ],
   "source": [
    "m=df[df['gender']=='M']['temperature']\n",
    "f=df[df['gender']=='F']['temperature']\n",
    "_=plt.hist(m, normed=True, alpha=0.5)\n",
    "_=plt.hist(f, normed=True, alpha=0.5)\n",
    "plt.show()"
   ]
  },
  {
   "cell_type": "code",
   "execution_count": 90,
   "metadata": {},
   "outputs": [
    {
     "name": "stdout",
     "output_type": "stream",
     "text": [
      "M: 65, mean: 98.1046153846\n",
      "F: 65, mean: 98.3938461538\n",
      "mean_all: 98.24923076923076\n",
      "p-value: 1\n"
     ]
    }
   ],
   "source": [
    "#H(0): There is no difference between genders with regard to average body temperature. (mean(M)==mean(F))\n",
    "#H(a): There is a difference in body temperature between genders. (mean(M)!=mean(F))\n",
    "#Testing statistic: mean\n",
    "\n",
    "#Permuting:\n",
    "n_m = len(m)\n",
    "print('M: '+str(n_m)+', mean: '+str(np.mean(m)))\n",
    "n_f = len(f)\n",
    "print('F: '+str(n_m)+', mean: '+str(np.mean(f)))\n",
    "b = np.concatenate((m,f))\n",
    "print('mean_all: '+str(np.mean(b)))\n",
    "diff_means = np.mean(m)-np.mean(f)\n",
    "\n",
    "p_diffs = np.empty(10000)\n",
    "\n",
    "for i in range(10000):\n",
    "    scrambled = np.random.permutation(b)\n",
    "    m_scrambled = scrambled[:65]\n",
    "    f_scrambled = scrambled[65:]\n",
    "    p_diffs[i] = abs(np.mean(m_scrambled)-np.mean(f_scrambled))\n",
    "\n",
    "\n",
    "p = np.sum(p_diffs>=diff_means)/len(p_diffs)\n",
    "print( 'p-value: '+str(p))"
   ]
  },
  {
   "cell_type": "code",
   "execution_count": 91,
   "metadata": {},
   "outputs": [
    {
     "data": {
      "text/plain": [
       "10000"
      ]
     },
     "execution_count": 91,
     "metadata": {},
     "output_type": "execute_result"
    }
   ],
   "source": [
    "np.sum(p_diffs>=diff_means)"
   ]
  },
  {
   "cell_type": "code",
   "execution_count": 84,
   "metadata": {},
   "outputs": [
    {
     "name": "stdout",
     "output_type": "stream",
     "text": [
      "p-value: 0.02126645183012935\n"
     ]
    }
   ],
   "source": [
    "#z-test\n",
    "z = diff_means/((np.sqrt(np.var(m)+np.var(f))/np.sqrt(65)))\n",
    "\n",
    "print('p-value: '+str(st.norm.cdf(z)*2))"
   ]
  },
  {
   "cell_type": "markdown",
   "metadata": {},
   "source": [
    "Based on permutations and z-testing, there was no significant difference between genders at 95% confidence level. "
   ]
  },
  {
   "cell_type": "code",
   "execution_count": null,
   "metadata": {},
   "outputs": [],
   "source": []
  },
  {
   "cell_type": "code",
   "execution_count": null,
   "metadata": {},
   "outputs": [],
   "source": []
  }
 ],
 "metadata": {
  "kernelspec": {
   "display_name": "Python 2",
   "language": "python",
   "name": "python2"
  },
  "language_info": {
   "codemirror_mode": {
    "name": "ipython",
    "version": 2
   },
   "file_extension": ".py",
   "mimetype": "text/x-python",
   "name": "python",
   "nbconvert_exporter": "python",
   "pygments_lexer": "ipython2",
   "version": "2.7.15"
  }
 },
 "nbformat": 4,
 "nbformat_minor": 1
}
